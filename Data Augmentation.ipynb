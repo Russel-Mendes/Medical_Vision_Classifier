{
 "cells": [
  {
   "cell_type": "markdown",
   "metadata": {},
   "source": [
    "# Data Augmentation for Medical Vision Classifier"
   ]
  },
  {
   "cell_type": "markdown",
   "metadata": {},
   "source": [
    "In order to gain a more accurate classifier and to prevent overfitting, more medical data is needed. One way is to procure wholly orginal medical images; another way --and more easier-- is to data augment the images currently held as data. The images can be augmented in many ways, and since the convolutional neural networks can identify an object regardless of position in the image, these augmented images are completely valid for training. "
   ]
  },
  {
   "cell_type": "markdown",
   "metadata": {},
   "source": [
    "The following functions are made using Pillow, and are used for basic transformations such as rotations and gausian blur. If any error were to arise, manually looking at the files created by the function and changing the function code accordingly is sufficient enough"
   ]
  },
  {
   "cell_type": "code",
   "execution_count": 3,
   "metadata": {},
   "outputs": [],
   "source": [
    "from PIL import Image\n",
    "def DataRotator(directory_path, file_name, file_ext, num_of_images):\n",
    "    for i in range(num_of_images):\n",
    "        image_path = '%s%s (%s)%s' % (directory_path, file_name, i+1, file_ext)\n",
    "        image = Image.open(image_path)\n",
    "        name1 = 'aug%s_1.png' % (i+1)\n",
    "        name2 = 'aug%s_2.png' % (i+1)\n",
    "        name3 = 'aug%s_3.png' % (i+1)\n",
    "        image.rotate(90).save(name1)\n",
    "        image.rotate(180).save(name2)\n",
    "        image.rotate(270).save(name3)"
   ]
  },
  {
   "cell_type": "code",
   "execution_count": 4,
   "metadata": {},
   "outputs": [],
   "source": [
    "from PIL import Image, ImageFilter\n",
    "def Blurring(directory_path, file_name, file_ext, num_of_images, Blur):\n",
    "    for i in range(num_of_images):\n",
    "        image_path = '%s%s (%s)%s' % (directory_path, file_name, i+1, file_ext)\n",
    "        image = Image.open(image_path, mode='r')\n",
    "        name = '%s_blur.png' % (i+1)\n",
    "        image.filter(ImageFilter.GaussianBlur(Blur)).save(name)\n",
    "       "
   ]
  },
  {
   "cell_type": "code",
   "execution_count": null,
   "metadata": {},
   "outputs": [],
   "source": []
  },
  {
   "cell_type": "code",
   "execution_count": null,
   "metadata": {},
   "outputs": [],
   "source": []
  },
  {
   "cell_type": "code",
   "execution_count": null,
   "metadata": {},
   "outputs": [],
   "source": []
  },
  {
   "cell_type": "code",
   "execution_count": 39,
   "metadata": {},
   "outputs": [],
   "source": []
  },
  {
   "cell_type": "code",
   "execution_count": 38,
   "metadata": {},
   "outputs": [],
   "source": []
  }
 ],
 "metadata": {
  "kernelspec": {
   "display_name": "Python 3",
   "language": "python",
   "name": "python3"
  },
  "language_info": {
   "codemirror_mode": {
    "name": "ipython",
    "version": 3
   },
   "file_extension": ".py",
   "mimetype": "text/x-python",
   "name": "python",
   "nbconvert_exporter": "python",
   "pygments_lexer": "ipython3",
   "version": "3.6.6"
  }
 },
 "nbformat": 4,
 "nbformat_minor": 2
}
